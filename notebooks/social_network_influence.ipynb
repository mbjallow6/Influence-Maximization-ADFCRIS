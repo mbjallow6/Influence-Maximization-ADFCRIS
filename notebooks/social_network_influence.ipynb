{
  "cells": [
    {
      "cell_type": "markdown",
      "metadata": {
        "colab_type": "text",
        "id": "view-in-github"
      },
      "source": [
        "<a href=\"https://colab.research.google.com/github/mbjallow6/Influence-Maximization-Review/blob/master/social_network_influence.ipynb\" target=\"_parent\"><img src=\"https://colab.research.google.com/assets/colab-badge.svg\" alt=\"Open In Colab\"/></a>"
      ]
    },
    {
      "cell_type": "code",
      "execution_count": null,
      "metadata": {},
      "outputs": [],
      "source": [
        "# notebooks/social_network_influence.ipynb\n",
        "from pathlib import Path\n",
        "\n",
        "# This import style assumes you have run `make install` and your VS Code\n",
        "# kernel is correctly pointed to the 'adfcris' conda environment.\n",
        "from adfcris.utils.graph_loader import load_graph_from_edge_list\n",
        "from adfcris.core.ris import generate_rr_sets_collection\n",
        "from adfcris.core.coverage import find_seed_set\n",
        "\n",
        "# --- Configuration ---\n",
        "# Use pathlib to build paths relative to the project root\n",
        "project_root = Path.cwd().parent\n",
        "DATA_DIR = project_root / \"data\" / \"raw\"\n",
        "GRAPH_FILE = DATA_DIR / \"email-Eu-core.txt.gz\"\n",
        "\n",
        "NUM_RR_SETS = 10000        # Number of RR sets to generate\n",
        "SEED_SET_SIZE = 50         # Budget k\n",
        "PROP_PROBABILITY = 0.01    # Uniform propagation probability\n",
        "\n",
        "print(\"--- Starting Influence Maximization Pipeline ---\")\n",
        "\n",
        "# --- Phase 1: Load Graph ---\n",
        "if not GRAPH_FILE.exists():\n",
        "    print(f\"❌ ERROR: Graph file not found at {GRAPH_FILE}\")\n",
        "    print(\"Please ensure 'email-Eu-core.txt.gz' from SNAP is in the 'data/raw' directory.\")\n",
        "else:\n",
        "    graph = load_graph_from_edge_list(\n",
        "        GRAPH_FILE,\n",
        "        directed=True,\n",
        "        prop_value=PROP_PROBABILITY\n",
        "    )\n",
        "\n",
        "    # --- Phase 2: Generate RR Sets ---\n",
        "    # This will now work after applying the bug fix in ris.py\n",
        "    rr_sets = generate_rr_sets_collection(graph, NUM_RR_SETS)\n",
        "\n",
        "    # --- Phase 3: Find Seed Set ---\n",
        "    seed_set = find_seed_set(\n",
        "        rr_sets,\n",
        "        k=SEED_SET_SIZE,\n",
        "        num_vertices=graph.num_vertices()\n",
        "    )\n",
        "\n",
        "    print(\"\\n--- ✅ Influence Maximization Complete ---\")\n",
        "    print(f\"Identified {len(seed_set)} influential nodes (k={SEED_SET_SIZE}):\")\n",
        "    # Print the first 10 seeds for brevity\n",
        "    print(seed_set[:10])"
      ]
    },
    {
      "cell_type": "code",
      "execution_count": null,
      "metadata": {},
      "outputs": [],
      "source": [
        "# notebooks/social_network_influence.ipynb\n",
        "from pathlib import Path\n",
        "\n",
        "from adfcris.utils.graph_loader import load_graph_from_edge_list\n",
        "from adfcris.core.ris import generate_rr_sets_collection\n",
        "from adfcris.core.coverage import find_seed_set\n",
        "from adfcris.utils.profiling import profile_memory\n",
        "\n",
        "# --- Configuration ---\n",
        "project_root = Path.cwd().parent\n",
        "DATA_DIR = project_root / \"data\" / \"raw\"\n",
        "GRAPH_FILE = DATA_DIR / \"twitter_combined.txt.gz\"\n",
        "\n",
        "NUM_RR_SETS = 100000        # Increased for a more realistic test\n",
        "SEED_SET_SIZE = 50\n",
        "PROP_PROBABILITY = 0.01\n",
        "\n",
        "print(\"--- Starting Influence Maximization Pipeline ---\")\n",
        "\n",
        "# --- Phase 1: Load Graph ---\n",
        "# This will now use the correct, remapping version of the function\n",
        "graph, id_map = load_graph_from_edge_list(\n",
        "    GRAPH_FILE,\n",
        "    directed=True,\n",
        "    prop_value=PROP_PROBABILITY\n",
        ")\n",
        "\n",
        "# --- Phase 2: Generate RR Sets (with profiling) ---\n",
        "@profile_memory\n",
        "def profiled_rr_generation(g, num_samples):\n",
        "    \"\"\"Wrapper function to profile RR set generation.\"\"\"\n",
        "    return generate_rr_sets_collection(g, num_samples)\n",
        "\n",
        "# Call the profiled wrapper function\n",
        "rr_sets = profiled_rr_generation(graph, NUM_RR_SETS)\n",
        "\n",
        "\n",
        "# --- Phase 3: Find Seed Set (with profiling) ---\n",
        "@profile_memory\n",
        "def profiled_seed_finding(rr_sets_list, k, n_vertices):\n",
        "    \"\"\"Wrapper function to profile seed set finding.\"\"\"\n",
        "    return find_seed_set(rr_sets_list, k, n_vertices)\n",
        "\n",
        "# Call the profiled wrapper function\n",
        "compact_seed_set = profiled_seed_finding(\n",
        "    rr_sets,\n",
        "    k=SEED_SET_SIZE,\n",
        "    num_vertices=graph.num_vertices()\n",
        ")\n",
        "\n",
        "# --- Phase 4: Translate back to Original IDs ---\n",
        "original_seed_set = [id_map[compact_id] for compact_id in compact_seed_set]\n",
        "\n",
        "print(\"\\n--- ✅ Influence Maximization Complete ---\")\n",
        "print(f\"Identified {len(original_seed_set)} influential nodes (original IDs):\")\n",
        "print(original_seed_set[:10])"
      ]
    },
    {
      "cell_type": "code",
      "execution_count": null,
      "metadata": {},
      "outputs": [],
      "source": []
    },
    {
      "cell_type": "code",
      "execution_count": null,
      "metadata": {
        "colab": {
          "base_uri": "https://localhost:8080/",
          "height": 73,
          "resources": {
            "http://localhost:8080/nbextensions/google.colab/files.js": {
              "data": "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",
              "headers": [
                [
                  "content-type",
                  "application/javascript"
                ]
              ],
              "ok": true,
              "status": 200,
              "status_text": ""
            }
          }
        },
        "colab_type": "code",
        "id": "e1nEywrUaK9k",
        "outputId": "7f4997dc-255b-4f41-c46b-a314aa444df5"
      },
      "outputs": [],
      "source": [
        "# Import required libraries\n",
        "\n",
        "import numpy as np\n",
        "import networkx as nx\n",
        "import networkx.algorithms.community as nx_com\n",
        "import networkx.algorithms.centrality as nx_cen\n",
        "import random \n",
        "import copy\n",
        "import math\n",
        "import csv\n",
        "import matplotlib.pyplot as plt\n",
        "from random import uniform, seed\n",
        "import pandas as pd\n",
        "import time\n",
        "from collections import Counter\n",
        "%matplotlib inline\n",
        "\n",
        "from google.colab import files\n",
        "uploaded = files.upload()\n"
      ]
    },
    {
      "cell_type": "code",
      "execution_count": null,
      "metadata": {
        "colab": {
          "base_uri": "https://localhost:8080/",
          "height": 406
        },
        "colab_type": "code",
        "id": "p2Yjnwu9nvsz",
        "outputId": "6e8b5f1c-ecf2-4c0e-e4c5-2e7dcb4b4a3d"
      },
      "outputs": [],
      "source": [
        "# I defined two helper fucntions for data \n",
        "# procecessing\n",
        "# get files as csv and return a dataframe\n",
        "# with pandas, dataframes and numpy arrays \n",
        "# are more easier to work with\n",
        "\n",
        "def get_df_files(file_name):\n",
        "\n",
        "  df_data = pd.read_csv(file_name)\n",
        "  return df_data\n",
        "\n",
        "dolphin_df = get_df_files('dolphin_csv.csv') \n",
        "dolphin_df \n"
      ]
    },
    {
      "cell_type": "code",
      "execution_count": null,
      "metadata": {
        "colab": {},
        "colab_type": "code",
        "id": "SocnSWbojiJ3"
      },
      "outputs": [],
      "source": [
        "# karate network dataset\n",
        "edge_list = [(1, 0), (2, 0), (2, 1), (3, 0), (3, 1), (3, 2),\n",
        "                 (4, 0), (5, 0), (6, 0), (6, 4), (6, 5), (7, 0), (7, 1),\n",
        "                 (7, 2), (7, 3), (8, 0), (8, 2), (9, 2), (10, 0), (10, 4),\n",
        "                 (10, 5), (11, 0), (12, 0), (12, 3), (13, 0), (13, 1), (13, 2),\n",
        "                 (13, 3), (16, 5), (16, 6), (17, 0), (17, 1), (19, 0), (19, 1),\n",
        "                 (21, 0), (21, 1), (25, 23), (25, 24), (27, 2), (27, 23),\n",
        "                 (27, 24), (28, 2), (29, 23), (29, 26), (30, 1), (30, 8),\n",
        "                 (31, 0), (31, 24), (31, 25), (31, 28), (32, 2), (32, 8),\n",
        "                 (32, 14), (32, 15), (32, 18), (32, 20), (32, 22), (32, 23),\n",
        "                 (32, 29), (32, 30), (32, 31), (33, 8), (33, 9), (33, 13),\n",
        "                 (33, 14), (33, 15), (33, 18), (33, 19), (33, 20), (33, 22),\n",
        "                 (33, 23), (33, 26), (33, 27), (33, 28), (33, 29), (33, 30),\n",
        "                 (33, 31), (33, 32)]\n",
        "karate_df = pd.DataFrame(edge_list, columns=['source', 'target'])\n"
      ]
    },
    {
      "cell_type": "code",
      "execution_count": null,
      "metadata": {
        "colab": {},
        "colab_type": "code",
        "id": "ByP0f2c7eACV"
      },
      "outputs": [],
      "source": [
        "# i defined another helper function to convert a dataframe\n",
        "# to a numpy array.\n",
        "# this function can be use to create an adjecency matrix for our dummy data\n",
        "def get_matrix_data(dolphin_df):\n",
        "\n",
        "  df = pd.crosstab(dolphin_df.source, dolphin_df.target)\n",
        "  idx = df.columns.union(df.index)\n",
        "  df = df.reindex(index=idx, columns=idx, fill_value=0)\n",
        "  matrix_data = df.to_numpy()\n",
        "  return matrix_data\n",
        "\n",
        "\n"
      ]
    },
    {
      "cell_type": "code",
      "execution_count": null,
      "metadata": {
        "colab": {},
        "colab_type": "code",
        "id": "Tq7OhsUvh4C6"
      },
      "outputs": [],
      "source": [
        "# dolphin network\n",
        "dolphin_data = get_matrix_data(dolphin_df)"
      ]
    },
    {
      "cell_type": "code",
      "execution_count": null,
      "metadata": {
        "colab": {
          "base_uri": "https://localhost:8080/",
          "height": 33
        },
        "colab_type": "code",
        "id": "L5nVP5WeiJIR",
        "outputId": "7ba64965-4c5a-4baf-a67e-4f2876ce115a"
      },
      "outputs": [],
      "source": [
        "karate_data = get_matrix_data(karate_df)\n",
        "len(karate_data)"
      ]
    },
    {
      "cell_type": "code",
      "execution_count": null,
      "metadata": {
        "colab": {
          "base_uri": "https://localhost:8080/",
          "height": 33
        },
        "colab_type": "code",
        "id": "KriW9vBNXEHb",
        "outputId": "9431f7a5-84e0-4acf-84f0-8e0eb09896ff"
      },
      "outputs": [],
      "source": [
        "# dummy netwrok generator\n",
        "\n",
        "def generate(kout):\n",
        "    nodes = 128; # the  number    of    nodes;\n",
        "    nc = 4; # the    number    of    clusters;\n",
        "    k = 16; # the    average    overall    degree    of    each    node;\n",
        "\n",
        "    nm = nodes / nc;\n",
        "    pin = float(k - kout)/(nm - 1);\n",
        "    pout = float(kout)/ (nm * (nc - 1));\n",
        "\n",
        "    y0 = np.zeros([nodes,nodes]);\n",
        "    count = 1;\n",
        "\n",
        "    for i in range(nodes):\n",
        "        if i >= nm * count:\n",
        "            count+=1\n",
        "\n",
        "        for j in range(i+1,nodes):\n",
        "\n",
        "            if j <= nm * count:\n",
        "                p0 = pin\n",
        "            else:\n",
        "                p0 = pout\n",
        "            if (random.random()<= p0):\n",
        "                y0[i,j] = 1\n",
        "\n",
        "    return (y0 + y0.T)\n",
        "\n",
        "a = generate(0.5)\n",
        "type(a)\n",
        "a.shape"
      ]
    },
    {
      "cell_type": "code",
      "execution_count": null,
      "metadata": {
        "colab": {
          "base_uri": "https://localhost:8080/",
          "height": 33
        },
        "colab_type": "code",
        "id": "4Lr4_khHn8nd",
        "outputId": "09359392-b6f0-43cb-e8b7-dd508583b15c"
      },
      "outputs": [],
      "source": [
        "df = pd.crosstab(dolphin_df.source, dolphin_df.target)\n",
        "idx = df.columns.union(df.index)\n",
        "df = df.reindex(index=idx, columns=idx, fill_value=0)\n",
        "a_mat = df.to_numpy()\n",
        "print(len((a_mat)))\n"
      ]
    },
    {
      "cell_type": "code",
      "execution_count": null,
      "metadata": {
        "colab": {},
        "colab_type": "code",
        "id": "aa9Gj9JzcL_H"
      },
      "outputs": [],
      "source": [
        "# I use this function a create a graph \n",
        "# pass the numpy array generate by the function above\n",
        "def create_Graph(graph_data):\n",
        "  G= nx.from_numpy_matrix(graph_data)\n",
        "  return G\n",
        "\n"
      ]
    },
    {
      "cell_type": "code",
      "execution_count": null,
      "metadata": {
        "colab": {
          "base_uri": "https://localhost:8080/",
          "height": 575
        },
        "colab_type": "code",
        "id": "sD7ybU8KnvhW",
        "outputId": "af143db2-a0c4-4228-a9d7-f16cfe99a4cf"
      },
      "outputs": [],
      "source": [
        "# ploting dolphine network graph\n",
        "plt.rcParams.update(plt.rcParamsDefault)\n",
        "plt.rcParams.update({'figure.figsize': (10, 7)})\n",
        "dolphin_graph = create_Graph(dolphin_data)\n",
        "nx.draw_networkx(dolphin_graph,node_color='#34CE43')\n",
        "plt.show()"
      ]
    },
    {
      "cell_type": "code",
      "execution_count": null,
      "metadata": {
        "colab": {
          "base_uri": "https://localhost:8080/",
          "height": 575
        },
        "colab_type": "code",
        "id": "-DDihpXrlmmb",
        "outputId": "fe2fab50-a460-4187-adef-4d1040e44def"
      },
      "outputs": [],
      "source": [
        "# ploting dummy network graph\n",
        "plt.rcParams.update(plt.rcParamsDefault)\n",
        "plt.rcParams.update({'figure.figsize': (10, 7)})\n",
        "dummy_graph = create_Graph(a)\n",
        "nx.draw_networkx(dummy_graph,node_color='#34CE43')\n",
        "plt.show()"
      ]
    },
    {
      "cell_type": "code",
      "execution_count": null,
      "metadata": {
        "colab": {
          "base_uri": "https://localhost:8080/",
          "height": 575
        },
        "colab_type": "code",
        "id": "OPUNIRzbn94D",
        "outputId": "5a02a946-157a-495e-be97-f5dbcab9ccab"
      },
      "outputs": [],
      "source": [
        "# ploting karate network graph\n",
        "plt.rcParams.update(plt.rcParamsDefault)\n",
        "plt.rcParams.update({'figure.figsize': (10, 7)})\n",
        "karate_graph = create_Graph(karate_data)\n",
        "nx.draw_networkx(karate_graph,node_color='#34CE43')\n",
        "plt.show()"
      ]
    },
    {
      "cell_type": "code",
      "execution_count": null,
      "metadata": {
        "colab": {
          "base_uri": "https://localhost:8080/",
          "height": 33
        },
        "colab_type": "code",
        "id": "JzSr6aeW4lIQ",
        "outputId": "d85fd19f-bcd1-4247-e93c-3fe04ac918af"
      },
      "outputs": [],
      "source": [
        "#  in the following lines of code,i use the networkx\n",
        "# library to explore the built in community detection fucntions\n",
        "#  you can observe that each function has a separate definition \n",
        "#  depending on their objective function, the pertition the graph\n",
        "# into various community sizes\n",
        "girvanNewman_communities = nx_com.girvan_newman(karate_graph)\n",
        "top_level_communities = next(girvanNewman_communities)\n",
        "next_level_communities = next(girvanNewman_communities)\n",
        "print(len(sorted(map(sorted,next_level_communities))))"
      ]
    },
    {
      "cell_type": "code",
      "execution_count": null,
      "metadata": {
        "colab": {
          "base_uri": "https://localhost:8080/",
          "height": 33
        },
        "colab_type": "code",
        "id": "DXKEN4EueyoZ",
        "outputId": "862e1cf9-a71d-47cf-cc72-a9bd303a08e3"
      },
      "outputs": [],
      "source": [
        "grModularity_communities = list(nx_com.greedy_modularity_communities(karate_graph))\n",
        "print(len(grModularity_communities))"
      ]
    },
    {
      "cell_type": "code",
      "execution_count": null,
      "metadata": {
        "colab": {
          "base_uri": "https://localhost:8080/",
          "height": 33
        },
        "colab_type": "code",
        "id": "V7m4YiT16pm4",
        "outputId": "c3843496-43bd-4cf2-b714-22f0c9e8a4b4"
      },
      "outputs": [],
      "source": [
        "k_Clique_communities = list(nx_com.k_clique_communities(G=dolphin_graph, k=5))\n",
        "print(len(k_Clique_communities))"
      ]
    },
    {
      "cell_type": "code",
      "execution_count": null,
      "metadata": {
        "colab": {},
        "colab_type": "code",
        "id": "YU_OHPNU_X_x"
      },
      "outputs": [],
      "source": [
        "# helper function to build graph of a dummy data\n",
        "# not necessary but helpful\n",
        "def buildG(G, file_):\n",
        "    row,column=file_.shape\n",
        "    for i in range(row):\n",
        "        for j in range(column):\n",
        "            if file_[i, j] == 1:\n",
        "                \n",
        "                G.add_edge(i, j)\n"
      ]
    },
    {
      "cell_type": "code",
      "execution_count": null,
      "metadata": {
        "colab": {},
        "colab_type": "code",
        "id": "wkH3Ck9fCKUA"
      },
      "outputs": [],
      "source": [
        "# Function to intialize the start population\n",
        "def initial_pop(G,n,pop,Alpha): \n",
        "    x=np.zeros([pop,n])\n",
        "    for i in range(pop):\n",
        "        x[i]=range(1,n+1)\n",
        "    for i in range(pop):\n",
        "        t=0\n",
        "        while t<=n*Alpha:\n",
        "            r=random.randint(1,n)\n",
        "            if r in G.nodes():\n",
        "                ider=x[i][r-1]\n",
        "                neighbors=list(G.edges(r))\n",
        "                for j in range(len(neighbors)):\n",
        "                    neighbor=neighbors[j][1]\n",
        "                    x[i][neighbor-1]=ider\n",
        "                t+=1\n",
        "    return x"
      ]
    },
    {
      "cell_type": "code",
      "execution_count": null,
      "metadata": {
        "colab": {},
        "colab_type": "code",
        "id": "VjGBQOhlwNhV"
      },
      "outputs": [],
      "source": [
        "# Helper function to update the population after each generation\n",
        "def UpdataPopulation(init_population,matrix_,children,best_candidate):\n",
        "    row,column=init_population.shape\n",
        "  \n",
        "    new_pop = np.zeros([row,column])\n",
        "    # print(len(new_pop))\n",
        "    all_pop = np.zeros([row+len(children)+len(best_candidate),column])\n",
        "    # print(len(all_pop))\n",
        "    all_pop[0:row]=init_population\n",
        "    all_pop[row:row+len(children)]=children\n",
        "    all_pop[-1]=best_candidate\n",
        "    neighbor_nodes = np.zeros([1,len(all_pop)])\n",
        "    for i in range(len(all_pop)):\n",
        "        neighbor_nodes[0][i]=fitness(init_population,all_pop[i])\n",
        "    Sort_neighbors = np.argsort(neighbor_nodes[0])\n",
        "    t=-1\n",
        "    for i in range(len(new_pop)):\n",
        "        new_pop[i]=all_pop[Sort_neighbors[t]]\n",
        "        t-=1\n",
        "    return new_pop"
      ]
    },
    {
      "cell_type": "code",
      "execution_count": null,
      "metadata": {
        "colab": {},
        "colab_type": "code",
        "id": "VXV0xwiDzQGY"
      },
      "outputs": [],
      "source": [
        "# this functions returns the nodes selected as influencial seeds\n",
        "def GetCommunity(mating_nodes):\n",
        "    community_seeds = []\n",
        "    cluster=()\n",
        "    \n",
        "    for i in range(len(mating_nodes)):\n",
        "        V=()\n",
        "        ider=mating_nodes[i]\n",
        "        if ider in cluster:\n",
        "            continue\n",
        "        else:\n",
        "            cluster+=(ider,)\n",
        "            V+=(i,)\n",
        "        for j in range(i+1,len(mating_nodes)):\n",
        "            if mating_nodes[j]==ider:\n",
        "                V+=(j,)\n",
        "        community_seeds.append(V)\n",
        "    return community_seeds"
      ]
    },
    {
      "cell_type": "code",
      "execution_count": null,
      "metadata": {
        "colab": {},
        "colab_type": "code",
        "id": "m0As3XPN2AJl"
      },
      "outputs": [],
      "source": [
        "# A helper function to compare the nodes with the best fitness\n",
        "def FindBest(children,matrix):\n",
        "    best=0\n",
        "    for i in range(len(children)):\n",
        "        if fitness(matrix,children[i])> fitness(matrix,children[best]):\n",
        "            best=i\n",
        "    # print('the best children', children[best])\n",
        "    return children[best]"
      ]
    },
    {
      "cell_type": "code",
      "execution_count": null,
      "metadata": {
        "colab": {},
        "colab_type": "code",
        "id": "qJH4eF_T0bjk"
      },
      "outputs": [],
      "source": [
        "# This function is very important in this algorithm.\n",
        "# i reduces the search space by eliminating neightbor nodes.\n",
        "def FindNeighbors(mating_nodes):\n",
        "    community_seeds = GetCommunity(mating_nodes)\n",
        "    num_community_seeds = len(community_seeds)\n",
        "    n=0\n",
        "    for i in range(num_community_seeds):\n",
        "        n =n+len(community_seeds[i])\n",
        "    if (num_community_seeds -1) ==0:\n",
        "      neighbors = np.empty([n*( num_community_seeds + 1),n])\n",
        "    else:\n",
        "      neighbors = np.empty([n*( num_community_seeds-1),n])\n",
        "    num=0\n",
        "    for i in range(num_community_seeds):\n",
        "        for k in range(len(community_seeds[i])):\n",
        "            for j in range(num_community_seeds):\n",
        "                if i==j:\n",
        "                    continue\n",
        "                else:\n",
        "                    neighbors[num]=copy.deepcopy(mating_nodes)\n",
        "                    neighbors[num][community_seeds[i][k]]=mating_nodes[community_seeds[j][0]]\n",
        "                    num+=1   \n",
        "    return neighbors"
      ]
    },
    {
      "cell_type": "code",
      "execution_count": null,
      "metadata": {
        "colab": {},
        "colab_type": "code",
        "id": "Nc3rYHzN3LwN"
      },
      "outputs": [],
      "source": [
        "# this function select parent chromosomes for mating\n",
        "def selection(init_population,matrix,pool,tour):\n",
        "    row,column =init_population.shape\n",
        "    parents = np.zeros([pool,column])\n",
        "    for i in range(pool):\n",
        "        a=random.randint(0,row-1)\n",
        "        for j in range(tour):\n",
        "            b=random.randint(0,row-1)\n",
        "            if fitness(matrix,init_population[a])<fitness(matrix,init_population[b]):\n",
        "                best=b\n",
        "            else:\n",
        "                best=a\n",
        "        parents[i]=init_population[best]\n",
        "    return parents"
      ]
    },
    {
      "cell_type": "code",
      "execution_count": null,
      "metadata": {
        "colab": {},
        "colab_type": "code",
        "id": "lFHDKpZu4Fdu"
      },
      "outputs": [],
      "source": [
        "# the crosmutate takes two pairs of chromosomes \n",
        "# returns offsrpings of the paired chromosomes\n",
        "def CrossMutate(G,parents,cr_prob,m_prob):\n",
        "    row,column=parents.shape\n",
        "    for i in range(0,row-1,2):\n",
        "        r = random.random()\n",
        "        if r<cr_prob:\n",
        "            Round_1=random.randint(0,column-1)\n",
        "            c=parents[i].copy()\n",
        "            cluster1=parents[i+1][Round_1]\n",
        "            for j in range(0,column-1):\n",
        "                if parents[i+1][j]==cluster1:\n",
        "                    parents[i][j]=cluster1\n",
        "            Round_2=random.randint(0,column-1)\n",
        "            cluster2=c[Round_2]\n",
        "            for j in range(0,column-1):\n",
        "                if c[j]==cluster2:\n",
        "                    parents[i+1][j]=cluster2\n",
        "        rr=random.random()\n",
        "        if rr < m_prob: \n",
        "            r1 = random.randint(0, row - 1)\n",
        "            for i in range(column):\n",
        "                r2 = random.randint(0, column - 1)\n",
        "                neighbors = list(G.edges(r2))\n",
        "                r3 = random.randint(0, len(neighbors) - 1)\n",
        "                neighbor = neighbors[r3][1]\n",
        "                parents[r1][r2] = parents[r1][neighbor]\n",
        "    return parents"
      ]
    },
    {
      "cell_type": "code",
      "execution_count": null,
      "metadata": {
        "colab": {},
        "colab_type": "code",
        "id": "2HHyoZqwMHNx"
      },
      "outputs": [],
      "source": [
        "# the fitness function evaluates the nodes with best fitness\n",
        "# matrix represent all nodes\n",
        "# population represent the best nodes\n",
        "def fitness(matrix,population):\n",
        "    bw=matrix.sum(axis=1)\n",
        "    community_seeds=GetCommunity(population)\n",
        "\n",
        "    mod=0.0\n",
        "    for i in range(len(community_seeds)):\n",
        "        # print('commm', community_seeds[i])\n",
        "        com=0.0\n",
        "        cut=0.0\n",
        "        for j in range(len(community_seeds[i])):\n",
        "            com1=0.0  \n",
        "            for member in range(len(community_seeds[i] )):#\n",
        "                com1+=matrix[community_seeds[i][j],community_seeds[i][member]]\n",
        "            com+=com1\n",
        "            cut+=(bw[community_seeds[i][j]]-com1)\n",
        "        mod+=((com-cut)/len(community_seeds[i]))\n",
        "    return mod"
      ]
    },
    {
      "cell_type": "code",
      "execution_count": null,
      "metadata": {
        "colab": {
          "base_uri": "https://localhost:8080/",
          "height": 51
        },
        "colab_type": "code",
        "id": "9DVzscy5v_5r",
        "outputId": "002d5bce-822b-4c75-f2ac-dcd443a1bf4b"
      },
      "outputs": [],
      "source": [
        "# x = np.array([1,2,3,4])\n",
        "# condition = (x<=4) & (x>1)\n",
        "# print(condition)\n",
        "# x_sel = np.extract(condition,x)\n",
        "# print(x_sel)\n",
        "g.neigbors"
      ]
    },
    {
      "cell_type": "code",
      "execution_count": null,
      "metadata": {
        "colab": {},
        "colab_type": "code",
        "id": "MRLApcRux7A8"
      },
      "outputs": [],
      "source": [
        "# main function\n",
        "# using dolphine graph\n",
        "def evolution(max_gen,num_nodes, pop_size, tour, cross_prob= 0.8, mutate_prob= 0.2, Alpha = 0.2, ):\n",
        "  \n",
        "  pool = pop_size//2\n",
        "  data = dolphin_data\n",
        "  A=data \n",
        "  G=nx.Graph()\n",
        "  buildG(G,data)\n",
        "  population=initial_pop(G,num_nodes,pop_size,Alpha) #initial population\n",
        "  t=0     #start generation from zero to the number specify\n",
        "  BestPop=np.zeros([max_gen,num_nodes])\n",
        "  timelapse = []\n",
        "  # try:\n",
        "  while t<max_gen:\n",
        "      start_time = time.time()\n",
        "      parents=selection(population,A,pool,tour)\n",
        "      children=CrossMutate(G,parents,cross_prob,mutate_prob)\n",
        "      Bestchild=FindBest(children,A)\n",
        "      IsLocal=False\n",
        "      while not IsLocal:\n",
        "          L=FindNeighbors(Bestchild)\n",
        "          best=FindBest(L,A)\n",
        "          if fitness(A,best)>fitness(A,Bestchild):\n",
        "            Bestchild=best\n",
        "          else:\n",
        "            IsLocal=True\n",
        "      population=UpdataPopulation(population,A,children,Bestchild)\n",
        "      print ('Generation number: ', t)\n",
        "      print ('Max fitness for generation: ', t, 'is: ', fitness(A,population[0]))\n",
        "      BestPop[t]=population[-1]\n",
        "      # print('pop', BestPop[t])\n",
        "      t+=1\n",
        "      timelapse.append(time.time()-start_time)\n",
        "\n",
        "  # except Exception as ex:\n",
        "  #   print(ex)\n",
        "  \n",
        "  FinalResult=FindBest(BestPop,A)\n",
        "  CommunityPartion=GetCommunity(FinalResult)\n",
        "  print ('Community partition:',len(CommunityPartion))\n",
        "  # print ('Community partition:',CommunityPartion)\n",
        "  # print('time_elapse:', timelapse)\n",
        "  return CommunityPartion"
      ]
    },
    {
      "cell_type": "code",
      "execution_count": null,
      "metadata": {
        "colab": {},
        "colab_type": "code",
        "id": "qUyuorBQhPQm"
      },
      "outputs": [],
      "source": [
        "# dummy evolution\n",
        "def evolution1(max_gen,num_nodes, pop_size, tour, cross_prob= 0.8, mutate_prob= 0.2, Alpha = 0.2, ):\n",
        "  \n",
        "  pool = pop_size//2\n",
        "  data = generate(0.5)\n",
        "  # data = matrix_data\n",
        "  A=data #Graph data,adj_matrix\n",
        "  G=nx.Graph()\n",
        "  buildG(G,data)\n",
        "  population=initial_pop(G,num_nodes,pop_size,Alpha) #initial population\n",
        "  t=0     #start generation from zero to the number specify\n",
        "  BestPop=np.zeros([max_gen,num_nodes])\n",
        "  timelapse = []\n",
        "  spread = []\n",
        "  # try:\n",
        "  while t<max_gen:\n",
        "      start_time = time.time()\n",
        "      parents=selection(population,A,pool,tour)\n",
        "      children=CrossMutate(G,parents,cross_prob,mutate_prob)\n",
        "      Bestchild=FindBest(children,A)\n",
        "      IsLocal=False\n",
        "      while not IsLocal:\n",
        "          L=FindNeighbors(Bestchild)\n",
        "          best=FindBest(L,A)\n",
        "          if fitness(A,best)>fitness(A,Bestchild):\n",
        "            Bestchild=best\n",
        "          else:\n",
        "            IsLocal=True\n",
        "      population=UpdataPopulation(population,A,children,Bestchild)\n",
        "      print ('Generation number: ', t)\n",
        "      print ('Max fitness for generation: ', t, 'is: ', fitness(A,population[0]))\n",
        "      BestPop[t]=population[-1]\n",
        "      t+=1\n",
        "      timelapse.append(time.time()-start_time)\n",
        "\n",
        "\n",
        "  # except Exception as ex:\n",
        "  #   print(ex)\n",
        "  FinalResult=FindBest(BestPop,A)\n",
        "  CommunityPartion=GetCommunity(FinalResult)\n",
        "  print ('Community partition:',len(CommunityPartion))\n",
        "  # print ('Community partition:',CommunityPartion)\n",
        "  # print('time_elapse:', timelapse)\n",
        "  return CommunityPartion"
      ]
    },
    {
      "cell_type": "code",
      "execution_count": null,
      "metadata": {
        "colab": {},
        "colab_type": "code",
        "id": "JUI778aLhe26"
      },
      "outputs": [],
      "source": [
        "def evolution2(max_gen,num_nodes, pop_size, tour, cross_prob= 0.8, mutate_prob= 0.2, Alpha = 0.2, ):\n",
        "  \n",
        "  pool = pop_size//2\n",
        "  # data = generate(0.5)\n",
        "  data = karate_data\n",
        "  A=data #Graph data,adj_matrix\n",
        "  G=nx.Graph()\n",
        "  buildG(G,data)\n",
        "  population=initial_pop(G,num_nodes,pop_size,Alpha) #initial population\n",
        "  t=0     #start generation from zero to the number specify\n",
        "  BestPop=np.zeros([max_gen,num_nodes])\n",
        "  timelapse = []\n",
        "  # communities = []\n",
        "  # try:\n",
        "  while t<max_gen:\n",
        "      start_time = time.time()\n",
        "      parents=selection(population,A,pool,tour)\n",
        "      children=CrossMutate(G,parents,cross_prob,mutate_prob)\n",
        "      Bestchild=FindBest(children,A)\n",
        "      # print('I ma the best child', Bestchild)\n",
        "      IsLocal=False\n",
        "      while not IsLocal:\n",
        "          L=FindNeighbors(Bestchild)\n",
        "          # print('these are the neigboors of best child', L[0])\n",
        "          best=FindBest(L,A)\n",
        "          # print('the best neigbor', np.unique(best))\n",
        "          if fitness(A,best)>fitness(A,Bestchild):\n",
        "            Bestchild=best\n",
        "          else:\n",
        "            IsLocal=True\n",
        "      population=UpdataPopulation(population,A,children,Bestchild)\n",
        "      # print('update population', population[-1])\n",
        "      print ('Generation number: ', t)\n",
        "      print ('Max fitness for generation: ', t, 'is: ', fitness(A,population[0]))\n",
        "      BestPop[t]=population[0]\n",
        "      timelapse.append(time.time()-start_time)\n",
        "      t+=1\n",
        "\n",
        "  # except Exception as ex:\n",
        "  #   print(ex)\n",
        "  # print(spread)\n",
        "  FinalResult=FindBest(BestPop,A)\n",
        "  # print('the final results', FinalResult)\n",
        "  CommunityPartion=GetCommunity(FinalResult)\n",
        "  print ('Community partition:',len(CommunityPartion))\n",
        "  # communities.append(CommunityPartion)\n",
        "  # print ('Community partition:',CommunityPartion)\n",
        "  # print('time_elapse:', timelapse)\n",
        "  return CommunityPartion"
      ]
    },
    {
      "cell_type": "code",
      "execution_count": null,
      "metadata": {
        "colab": {
          "base_uri": "https://localhost:8080/",
          "height": 1000
        },
        "colab_type": "code",
        "id": "22-PqcUyq1kP",
        "outputId": "3a5f36a1-7c9b-4b5c-c846-b8d843a3ffdc"
      },
      "outputs": [],
      "source": [
        "# karate_evolution = evolution2(max_gen=2, num_nodes = 34,pop_size=120,mutate_prob=0.2, tour=2)\n",
        "# karate_evolution\n",
        "\n",
        "karate_evolution ,dolphin_evolution, dummy_evolution = [],[],[]\n",
        "for i in range(1,11):\n",
        "  karate = evolution2(max_gen= i,num_nodes= 34,pop_size= 120, tour=2)\n",
        "  karate_evolution.append(karate)\n",
        "  dolphin = evolution(max_gen=i,num_nodes=62, pop_size=220,tour=2)\n",
        "  dolphin_evolution.append(dolphin)\n",
        "  dummy = evolution1(max_gen=i, num_nodes=128,pop_size=450,tour=2)\n",
        "  dummy_evolution.append(dummy)\n",
        "\n"
      ]
    },
    {
      "cell_type": "code",
      "execution_count": null,
      "metadata": {
        "colab": {},
        "colab_type": "code",
        "id": "oJF8liTJxIFF"
      },
      "outputs": [],
      "source": [
        "karate_evolution[0][0]"
      ]
    },
    {
      "cell_type": "code",
      "execution_count": null,
      "metadata": {
        "colab": {},
        "colab_type": "code",
        "id": "GzWkbeuHFjKR"
      },
      "outputs": [],
      "source": [
        "from networkx import *\n",
        "def IC(g,S,p=0.5,mc=1000):\n",
        "    \"\"\"\n",
        "    Input:  graph object, set of seed nodes, propagation probability\n",
        "            and the number of Monte-Carlo simulations\n",
        "    Output: average number of nodes influenced by the seed nodes\n",
        "    \"\"\"\n",
        "    \n",
        "    # Loop over the Monte-Carlo Simulations\n",
        "    spread = []\n",
        "    for i in range(mc):\n",
        "        \n",
        "        # Simulate propagation process      \n",
        "        new_active =S[:]\n",
        "        # print('new active',new_active)\n",
        "        A = S[:]\n",
        "        \n",
        "        while new_active:\n",
        "\n",
        "            # For each newly active node, find its neighbors that become activated\n",
        "            new_ones = []\n",
        "            for node in new_active:\n",
        "                \n",
        "                # Determine neighbors that become infected\n",
        "                np.random.seed(i)\n",
        "                success = np.random.uniform(0,1,len(list(g.neighbors(node)))) < p\n",
        "                # print(\"success\", success)\n",
        "                # print('new onessssss', list(np.extract(success, g.neighbors(node))))\n",
        "                new_ones += list(np.extract(success, list(g.neighbors(node))))\n",
        "                # print('new onesss ', new_ones)\n",
        "\n",
        "            new_active = list(set(new_ones) - set(A))\n",
        "            # print( 'new active', new_active)\n",
        "            # print(' lest see how A', A)\n",
        "            \n",
        "            # Add newly activated nodes to the set of activated nodes\n",
        "            \n",
        "            A += new_active\n",
        "            # print('AAAAAAAAAAA', A)\n",
        "\n",
        "            \n",
        "        spread.append(len(A))\n",
        "        # print('this aaaaaaaaaaa A', A)\n",
        "        \n",
        "    return (np.mean(spread))"
      ]
    },
    {
      "cell_type": "code",
      "execution_count": null,
      "metadata": {
        "colab": {},
        "colab_type": "code",
        "id": "Hv2iOJzCr_n_"
      },
      "outputs": [],
      "source": [
        "# seed_set = list(dolphine_evolution[1][0])\n",
        "# spread = IC(dolphine_graph, seed_set, 0.5,100)\n",
        "# spread\n",
        "karate_sp, dolphin_sp, dummy_sp = [],[],[]\n",
        "for i in range(10):\n",
        "  karate_seed = list(karate_evolution[i][0])\n",
        "  karate_spread = IC(karate_graph,karate_seed, p=0.5, mc = 10)\n",
        "  karate_sp.append(karate_spread)\n",
        "  dolphin_seed = list(dolphin_evolution[i][0])\n",
        "  dolphin_spread = IC(dolphin_graph,dolphin_seed, p=0.5, mc = 10)\n",
        "  dolphin_sp.append(dolphin_spread)\n",
        "  dummy_seed = list(dummy_evolution[i][0])\n",
        "  dummy_spread = IC(dummy_graph,dummy_seed, p=0.5, mc = 10)\n",
        "  dummy_sp.append(dummy_spread)\n"
      ]
    },
    {
      "cell_type": "code",
      "execution_count": null,
      "metadata": {
        "colab": {
          "base_uri": "https://localhost:8080/",
          "height": 641
        },
        "colab_type": "code",
        "id": "o9USvgd8KoXy",
        "outputId": "593837af-3b6f-42e1-b348-3e4dcec4283c"
      },
      "outputs": [],
      "source": [
        "plt.plot(range(1,len(karate_sp)+1),karate_sp,label=\"Karate Spread\",color=\"#FBB4AE\")\n",
        "plt.xlabel('Number of Generation'); plt.ylabel('Expected Spread')\n",
        "plt.title('Showing the Expected Spread of Zachary Networks'); plt.legend(loc=1);\n",
        "plt.show()"
      ]
    },
    {
      "cell_type": "code",
      "execution_count": null,
      "metadata": {
        "colab": {
          "base_uri": "https://localhost:8080/",
          "height": 641
        },
        "colab_type": "code",
        "id": "q72KglRbF2Z-",
        "outputId": "18fcf9c3-73db-4091-8fa7-417c9d756eb5"
      },
      "outputs": [],
      "source": [
        "plt.plot(range(1,len(dolphin_sp)+1),dolphin_sp,label=\"Dolphin Spread\",color=\"#B3CDE3\")\n",
        "plt.xlabel('Number of Generation'); plt.ylabel('Expected Spread')\n",
        "plt.title('Showing the Expected Spread of Dolphine Networks'); plt.legend(loc=2);\n",
        "plt.show()\n"
      ]
    },
    {
      "cell_type": "code",
      "execution_count": null,
      "metadata": {
        "colab": {
          "base_uri": "https://localhost:8080/",
          "height": 641
        },
        "colab_type": "code",
        "id": "QmnL6x4SGY5T",
        "outputId": "8a3ae572-d67f-4276-8f2d-c691ace845b1"
      },
      "outputs": [],
      "source": [
        "plt.plot(range(1,len(dummy_sp)+1),dummy_sp,label=\"Dummy Spread\",color=\"#FB34AE\")\n",
        "plt.xlabel('Number of Generation'); plt.ylabel('Expected Spread')\n",
        "plt.title('Showing the Expected Spread of a Dummy Networks'); plt.legend(loc=2);\n",
        "plt.show()"
      ]
    },
    {
      "cell_type": "code",
      "execution_count": null,
      "metadata": {
        "colab": {
          "base_uri": "https://localhost:8080/",
          "height": 641
        },
        "colab_type": "code",
        "id": "SkHnTzF6eb60",
        "outputId": "98b57b14-9622-4a77-d4b0-cbaa0a84d4d4"
      },
      "outputs": [],
      "source": [
        "def runtime_plot(x,y,z):\n",
        "  plt.plot(x, label = 'dolphine network')\n",
        "  plt.plot(y,  label = 'karate network')\n",
        "  plt.plot(z, label = 'dummy network')\n",
        "\n",
        "  plt.xlabel('generation')\n",
        "  plt.ylabel('run time')\n",
        "\n",
        "  plt.title('Showing the run time of three different networks')\n",
        "  plt.legend()\n",
        "  plt.show()\n",
        "plot = runtime_plot(dolphine_evolution, karate_evolution,dummy_evolution)\n",
        "plot\n"
      ]
    },
    {
      "cell_type": "code",
      "execution_count": null,
      "metadata": {
        "colab": {},
        "colab_type": "code",
        "id": "1FSnEkIUE4Bb"
      },
      "outputs": [],
      "source": []
    }
  ],
  "metadata": {
    "colab": {
      "authorship_tag": "ABX9TyO9zqmft+nSu0io4ucDq2YF",
      "collapsed_sections": [],
      "include_colab_link": true,
      "name": "social_network_influence.ipynb",
      "provenance": []
    },
    "kernelspec": {
      "display_name": "adfcris",
      "language": "python",
      "name": "python3"
    },
    "language_info": {
      "codemirror_mode": {
        "name": "ipython",
        "version": 3
      },
      "file_extension": ".py",
      "mimetype": "text/x-python",
      "name": "python",
      "nbconvert_exporter": "python",
      "pygments_lexer": "ipython3",
      "version": "3.9.18"
    }
  },
  "nbformat": 4,
  "nbformat_minor": 0
}
